{
 "metadata": {
  "name": "",
  "signature": "sha256:4460ea4d125b8ed81111340cf8934db067847ffdd492da25af8633704c1e6dff"
 },
 "nbformat": 3,
 "nbformat_minor": 0,
 "worksheets": [
  {
   "cells": [
    {
     "cell_type": "code",
     "collapsed": false,
     "input": [
      "%matplotlib inline\n",
      "\n",
      "import grid_pairs"
     ],
     "language": "python",
     "metadata": {},
     "outputs": [],
     "prompt_number": 1
    },
    {
     "cell_type": "markdown",
     "metadata": {},
     "source": [
      "## Create some fake data with analytically calculable pair counts"
     ]
    },
    {
     "cell_type": "code",
     "collapsed": false,
     "input": [
      "Lbox = 100.0\n",
      "scaling_factor = 100.\n",
      "small_box_size = Lbox/scaling_factor\n",
      "shift_length = scaling_factor/5.\n",
      "\n",
      "left_edge_box1 = shift_length*small_box_size\n",
      "left_edge_box2 = Lbox - shift_length*small_box_size\n",
      "\n",
      "Npts1, Npts2 = 1000, 2000\n",
      "p1 = np.random.uniform(left_edge_box1, left_edge_box1 + small_box_size, Npts1*3).reshape(3, Npts1)\n",
      "p2 = np.random.uniform(left_edge_box2, left_edge_box2 + small_box_size, Npts2*3).reshape(3, Npts2)\n"
     ],
     "language": "python",
     "metadata": {},
     "outputs": [],
     "prompt_number": 2
    },
    {
     "cell_type": "code",
     "collapsed": false,
     "input": [
      "plt.xlim([0, Lbox])\n",
      "plt.ylim([0, Lbox])\n",
      "plt.scatter(p1[0,:], p1[1,:], color='b')\n",
      "plt.scatter(p2[0,:], p2[1,:], color='r')"
     ],
     "language": "python",
     "metadata": {},
     "outputs": [
      {
       "metadata": {},
       "output_type": "pyout",
       "prompt_number": 3,
       "text": [
        "<matplotlib.collections.PathCollection at 0x107e1b890>"
       ]
      },
      {
       "metadata": {},
       "output_type": "display_data",
       "png": "[encoded data removed]",
       "text": [
        "<matplotlib.figure.Figure at 0x107d7b510>"
       ]
      }
     ],
     "prompt_number": 3
    },
    {
     "cell_type": "code",
     "collapsed": false,
     "input": [
      "rbins = [0, small_box_size, Lbox/2.]"
     ],
     "language": "python",
     "metadata": {},
     "outputs": [],
     "prompt_number": 4
    },
    {
     "cell_type": "code",
     "collapsed": false,
     "input": [
      "counts = grid_pairs.npairs(p1, p2, rbins, Lbox)"
     ],
     "language": "python",
     "metadata": {},
     "outputs": [
      {
       "output_type": "stream",
       "stream": "stdout",
       "text": [
        "cell size= 50.0\n",
        "number of cells = 8\n",
        "    0.00 %%\r"
       ]
      },
      {
       "output_type": "stream",
       "stream": "stdout",
       "text": [
        "    12.50 %%\r"
       ]
      },
      {
       "output_type": "stream",
       "stream": "stdout",
       "text": [
        "    25.00 %%\r"
       ]
      },
      {
       "output_type": "stream",
       "stream": "stdout",
       "text": [
        "    37.50 %%\r"
       ]
      },
      {
       "output_type": "stream",
       "stream": "stdout",
       "text": [
        "    50.00 %%\r"
       ]
      },
      {
       "output_type": "stream",
       "stream": "stdout",
       "text": [
        "    62.50 %%\r"
       ]
      },
      {
       "output_type": "stream",
       "stream": "stdout",
       "text": [
        "    75.00 %%\r"
       ]
      },
      {
       "output_type": "stream",
       "stream": "stdout",
       "text": [
        "    87.50 %%\r"
       ]
      }
     ],
     "prompt_number": 5
    },
    {
     "cell_type": "code",
     "collapsed": false,
     "input": [
      "print counts"
     ],
     "language": "python",
     "metadata": {},
     "outputs": [
      {
       "output_type": "stream",
       "stream": "stdout",
       "text": [
        "[0 0 0]\n"
       ]
      }
     ],
     "prompt_number": 6
    },
    {
     "cell_type": "code",
     "collapsed": false,
     "input": [],
     "language": "python",
     "metadata": {},
     "outputs": [],
     "prompt_number": 6
    }
   ],
   "metadata": {}
  }
 ]
}