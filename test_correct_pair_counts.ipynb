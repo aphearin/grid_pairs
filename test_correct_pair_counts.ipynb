{
 "metadata": {
  "name": "",
  "signature": "sha256:0975d3d85c98077a74f0aa459bf6ebc4eb4d299ef169974b17782126e9cc1c2b"
 },
 "nbformat": 3,
 "nbformat_minor": 0,
 "worksheets": [
  {
   "cells": [
    {
     "cell_type": "code",
     "collapsed": false,
     "input": [
      "%matplotlib inline\n",
      "\n",
      "import grid_pairs"
     ],
     "language": "python",
     "metadata": {},
     "outputs": [],
     "prompt_number": 1
    },
    {
     "cell_type": "markdown",
     "metadata": {},
     "source": [
      "## Create some fake data with analytically calculable pair counts"
     ]
    },
    {
     "cell_type": "code",
     "collapsed": false,
     "input": [
      "Lbox = 100.0\n",
      "scaling_factor = 100.\n",
      "small_box_size = Lbox/scaling_factor\n",
      "shift_length = scaling_factor/5.\n",
      "\n",
      "left_edge_box1 = shift_length*small_box_size\n",
      "left_edge_box2 = Lbox - shift_length*small_box_size\n",
      "\n",
      "Npts1, Npts2 = 100, 200\n",
      "p1 = np.random.uniform(left_edge_box1, left_edge_box1 + small_box_size, Npts1*3).reshape(3, Npts1)\n",
      "p2 = np.random.uniform(left_edge_box2, left_edge_box2 + small_box_size, Npts2*3).reshape(3, Npts2)\n",
      "p12 = np.concatenate([p1, p2], axis=1)\n",
      "\n",
      "rbins = [0, small_box_size*2, Lbox]"
     ],
     "language": "python",
     "metadata": {},
     "outputs": [],
     "prompt_number": 2
    },
    {
     "cell_type": "code",
     "collapsed": false,
     "input": [
      "plt.xlim([0, Lbox])\n",
      "plt.ylim([0, Lbox])\n",
      "plt.scatter(p1[0,:], p1[1,:], color='b')\n",
      "plt.scatter(p2[0,:], p2[1,:], color='r')"
     ],
     "language": "python",
     "metadata": {},
     "outputs": [
      {
       "metadata": {},
       "output_type": "pyout",
       "prompt_number": 3,
       "text": [
        "<matplotlib.collections.PathCollection at 0x10872e790>"
       ]
      },
      {
       "metadata": {},
       "output_type": "display_data",
       "png": "[encoded data removed]",
       "text": [
        "<matplotlib.figure.Figure at 0x1086894d0>"
       ]
      }
     ],
     "prompt_number": 3
    },
    {
     "cell_type": "markdown",
     "metadata": {},
     "source": [
      "### Check the cross-counts"
     ]
    },
    {
     "cell_type": "code",
     "collapsed": false,
     "input": [
      "cumulative_counts_crosscorr = grid_pairs.npairs(p1, p2, rbins, Lbox)\n",
      "binned_counts_crosscorr = np.diff(cumulative_counts_crosscorr)\n",
      "\n",
      "print binned_counts_crosscorr"
     ],
     "language": "python",
     "metadata": {},
     "outputs": [
      {
       "output_type": "stream",
       "stream": "stdout",
       "text": [
        "    0.00 %%\r"
       ]
      },
      {
       "output_type": "stream",
       "stream": "stdout",
       "text": [
        "[    0 20000]\n"
       ]
      }
     ],
     "prompt_number": 4
    },
    {
     "cell_type": "code",
     "collapsed": false,
     "input": [
      "bin1_crosstest = binned_counts_crosscorr[0]==0\n",
      "bin2_crosstest = binned_counts_crosscorr[1]==Npts1*Npts2\n",
      "is_cross_correct = bin1_crosstest*bin2_crosstest\n",
      "print(\"Result is correct? %r\" % is_cross_correct)"
     ],
     "language": "python",
     "metadata": {},
     "outputs": [
      {
       "output_type": "stream",
       "stream": "stdout",
       "text": [
        "Result is correct? True\n"
       ]
      }
     ],
     "prompt_number": 5
    },
    {
     "cell_type": "markdown",
     "metadata": {},
     "source": [
      "### Check the auto-counts"
     ]
    },
    {
     "cell_type": "code",
     "collapsed": false,
     "input": [
      "cumulative_counts_autocorr = grid_pairs.npairs(p12, p12, rbins, Lbox)\n",
      "binned_counts_autocorr = np.diff(cumulative_counts_autocorr)\n",
      "\n",
      "print cumulative_counts_autocorr"
     ],
     "language": "python",
     "metadata": {},
     "outputs": [
      {
       "output_type": "stream",
       "stream": "stdout",
       "text": [
        "    0.00 %%\r"
       ]
      },
      {
       "output_type": "stream",
       "stream": "stdout",
       "text": [
        "[    0     0 20000]\n"
       ]
      }
     ],
     "prompt_number": 6
    },
    {
     "cell_type": "code",
     "collapsed": false,
     "input": [
      "bin1_autotest = binned_counts_autocorr[0]==Npts1*Npts1 + Npts2*Npts2\n",
      "bin2_autotest = binned_counts_autocorr[1]==Npts1*Npts2\n",
      "\n",
      "is_auto_correct = bin1_autotest*bin2_autotest\n",
      "print(\"Result is correct? %r\" % is_auto_correct)"
     ],
     "language": "python",
     "metadata": {},
     "outputs": [
      {
       "output_type": "stream",
       "stream": "stdout",
       "text": [
        "Result is correct? False\n"
       ]
      }
     ],
     "prompt_number": 7
    },
    {
     "cell_type": "code",
     "collapsed": false,
     "input": [],
     "language": "python",
     "metadata": {},
     "outputs": [],
     "prompt_number": 7
    }
   ],
   "metadata": {}
  }
 ]
}